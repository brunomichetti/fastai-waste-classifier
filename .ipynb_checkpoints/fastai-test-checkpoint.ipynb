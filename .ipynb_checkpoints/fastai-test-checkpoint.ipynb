{
 "cells": [
  {
   "cell_type": "code",
   "execution_count": 2,
   "id": "6565d0c1-ab67-4706-8555-4ddd048c7316",
   "metadata": {},
   "outputs": [],
   "source": [
    "from fastai.vision import *\n",
    "from fastai.metrics import error_rate\n",
    "from pathlib import Path\n",
    "from glob2 import glob\n",
    "from sklearn.metrics import confusion_matrix\n",
    "\n",
    "import pandas as pd\n",
    "import numpy as np\n",
    "import os\n",
    "import zipfile as zf\n",
    "import shutil\n",
    "import re\n",
    "import seaborn as sns\n",
    "import os"
   ]
  },
  {
   "cell_type": "code",
   "execution_count": 1,
   "id": "2dd9a24f-9459-436e-866a-05ebfd86727c",
   "metadata": {},
   "outputs": [
    {
     "data": {
      "text/plain": [
       "'/Users/rs-mac-mini/work/fastai-test'"
      ]
     },
     "execution_count": 1,
     "metadata": {},
     "output_type": "execute_result"
    }
   ],
   "source": [
    "pwd"
   ]
  },
  {
   "cell_type": "code",
   "execution_count": 3,
   "id": "77ec3f88-4c13-4802-8d55-4a2e8c2d65a1",
   "metadata": {},
   "outputs": [],
   "source": [
    "BASE_DIR = \"/Users/rs-mac-mini/work/fastai-test\"\n",
    "DATA_DIR = f\"{BASE_DIR}/compostnet-dataset-resized\""
   ]
  },
  {
   "cell_type": "code",
   "execution_count": 4,
   "id": "36a39a74-ecc0-4913-a71c-27be905166c1",
   "metadata": {},
   "outputs": [],
   "source": [
    "TRAIN_DIR = f\"{DATA_DIR}/train\"\n",
    "VALIDATION_DIR = f\"{DATA_DIR}/validation\"\n",
    "TEST_DIR = f\"{DATA_DIR}/test\""
   ]
  },
  {
   "cell_type": "code",
   "execution_count": 5,
   "id": "00f4fc5e-1bd6-499d-af79-6767b23203a1",
   "metadata": {},
   "outputs": [],
   "source": [
    "classes_dir = [\n",
    "    \"cardboard\",\n",
    "    \"glass\",\n",
    "    \"paper\",\n",
    "    \"trash\",\n",
    "    \"compost\",\n",
    "    \"metal\",\n",
    "    \"plastic\"\n",
    "]\n",
    "\n",
    "def split_data():\n",
    "    test_ratio = 0.20\n",
    "    val_ratio = 0.25\n",
    "\n",
    "    for cls in classes_dir:\n",
    "        os.makedirs(f\"{TRAIN_DIR}/{cls}\")\n",
    "        os.makedirs(f\"{VALIDATION_DIR}/{cls}\")\n",
    "        os.makedirs(f\"{TEST_DIR}/{cls}\")\n",
    "\n",
    "\n",
    "        all_files = os.listdir(f\"{DATA_DIR}/{cls}\")\n",
    "        np.random.shuffle(all_files)\n",
    "        training_files, test_files = np.split(np.array(all_files),\n",
    "                                        [int(len(all_files)* (1 - test_ratio))])\n",
    "\n",
    "        training_files, validation_files = np.split(training_files, [int(len(training_files)* (1 - val_ratio))])\n",
    "        training_files = [f\"{cls}/{name}\" for name in training_files.tolist()]\n",
    "        validation_files = [f\"{cls}/{name}\" for name in validation_files.tolist()]\n",
    "        test_files = [f\"{cls}/{name}\" for name in test_files.tolist()]\n",
    "\n",
    "\n",
    "        for name in training_files:\n",
    "            shutil.copy(f\"{DATA_DIR}/{name}\", f\"{TRAIN_DIR}/{name}\")\n",
    "\n",
    "        for name in validation_files:\n",
    "            shutil.copy(f\"{DATA_DIR}/{name}\", f\"{VALIDATION_DIR}/{name}\")\n",
    "\n",
    "        for name in test_files:\n",
    "            shutil.copy(f\"{DATA_DIR}/{name}\", f\"{TEST_DIR}/{name}\")\n",
    "\n",
    "split_data()"
   ]
  },
  {
   "cell_type": "code",
   "execution_count": 6,
   "id": "efdb5415-9f97-47d5-9805-7c8ded94cb54",
   "metadata": {},
   "outputs": [
    {
     "ename": "SyntaxError",
     "evalue": "unexpected EOF while parsing (1887192333.py, line 2)",
     "output_type": "error",
     "traceback": [
      "\u001b[0;36m  File \u001b[0;32m\"/var/folders/qz/fp3xwsx15qxbht4xtxj4tnhr0000gn/T/ipykernel_11836/1887192333.py\"\u001b[0;36m, line \u001b[0;32m2\u001b[0m\n\u001b[0;31m    data = ImageDataBunch.from_folder(DATA_DIR, test=\"test\", valid=\"validation\", ds_tfms=tfms, bs=16\u001b[0m\n\u001b[0m                                                                                                    ^\u001b[0m\n\u001b[0;31mSyntaxError\u001b[0m\u001b[0;31m:\u001b[0m unexpected EOF while parsing\n"
     ]
    }
   ],
   "source": [
    "tfms = get_transforms(do_flip=True, flip_vert=True)\n",
    "data = ImageDataBunch.from_folder(DATA_DIR, test=\"test\", valid=\"validation\", ds_tfms=tfms, bs=16)"
   ]
  },
  {
   "cell_type": "code",
   "execution_count": null,
   "id": "c3a032bc-f600-489c-9f0d-578c4ca2751b",
   "metadata": {},
   "outputs": [],
   "source": []
  }
 ],
 "metadata": {
  "kernelspec": {
   "display_name": "Python 3 (ipykernel)",
   "language": "python",
   "name": "python3"
  },
  "language_info": {
   "codemirror_mode": {
    "name": "ipython",
    "version": 3
   },
   "file_extension": ".py",
   "mimetype": "text/x-python",
   "name": "python",
   "nbconvert_exporter": "python",
   "pygments_lexer": "ipython3",
   "version": "3.9.6"
  }
 },
 "nbformat": 4,
 "nbformat_minor": 5
}
